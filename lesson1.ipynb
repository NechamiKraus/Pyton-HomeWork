{
 "cells": [
  {
   "cell_type": "code",
   "execution_count": 1,
   "id": "49bc3334-c49c-4f7e-ba3c-66e73f1db453",
   "metadata": {},
   "outputs": [
    {
     "name": "stdout",
     "output_type": "stream",
     "text": [
      "Requirement already satisfied: numpy in c:\\python310\\lib\\site-packages (1.26.4)\n",
      "Note: you may need to restart the kernel to use updated packages.\n"
     ]
    },
    {
     "name": "stderr",
     "output_type": "stream",
     "text": [
      "\n",
      "[notice] A new release of pip is available: 23.3.2 -> 24.0\n",
      "[notice] To update, run: python.exe -m pip install --upgrade pip\n"
     ]
    }
   ],
   "source": [
    "pip install numpy"
   ]
  },
  {
   "cell_type": "code",
   "execution_count": 3,
   "id": "202ade38-6d24-4f90-b3e0-3c1affd35012",
   "metadata": {},
   "outputs": [],
   "source": [
    "import numpy as np\n"
   ]
  },
  {
   "cell_type": "code",
   "execution_count": 14,
   "id": "85de7fa7-beb1-46da-b1c8-c1024ec439dd",
   "metadata": {},
   "outputs": [],
   "source": [
    "list_arr = [1,2,3,4]"
   ]
  },
  {
   "cell_type": "code",
   "execution_count": 15,
   "id": "93561337-3126-4b8d-b60a-34f2a1d2d4c6",
   "metadata": {},
   "outputs": [],
   "source": [
    "arr = np.array(list_arr)"
   ]
  },
  {
   "cell_type": "code",
   "execution_count": 16,
   "id": "863a4e4d-af61-4ac8-84fd-907ecb3b6504",
   "metadata": {},
   "outputs": [
    {
     "data": {
      "text/plain": [
       "array([1, 2, 3, 4])"
      ]
     },
     "execution_count": 16,
     "metadata": {},
     "output_type": "execute_result"
    }
   ],
   "source": [
    "arr"
   ]
  },
  {
   "cell_type": "code",
   "execution_count": 18,
   "id": "3aaea40b-af7e-4edb-9dc2-0f63a2dd9694",
   "metadata": {},
   "outputs": [
    {
     "name": "stdout",
     "output_type": "stream",
     "text": [
      "<class 'numpy.ndarray'>\n"
     ]
    }
   ],
   "source": [
    "print(type(arr))"
   ]
  },
  {
   "cell_type": "code",
   "execution_count": 21,
   "id": "73f084e9-a3b5-42b3-9716-102ab22c0118",
   "metadata": {},
   "outputs": [
    {
     "name": "stdout",
     "output_type": "stream",
     "text": [
      "int32\n"
     ]
    }
   ],
   "source": [
    "print(arr.dtype)"
   ]
  },
  {
   "cell_type": "code",
   "execution_count": 27,
   "id": "46627135-d96f-4b09-aaef-16940fc8569d",
   "metadata": {},
   "outputs": [],
   "source": [
    "random_arr = np.random.randint(1,50,size=(10))"
   ]
  },
  {
   "cell_type": "code",
   "execution_count": 28,
   "id": "e792f280-a202-4a2a-9f42-d8a287093c23",
   "metadata": {},
   "outputs": [
    {
     "data": {
      "text/plain": [
       "array([25, 35, 23, 23, 31,  6, 22, 40,  3, 45])"
      ]
     },
     "execution_count": 28,
     "metadata": {},
     "output_type": "execute_result"
    }
   ],
   "source": [
    "random_arr"
   ]
  },
  {
   "cell_type": "markdown",
   "id": "e4df451d-a09c-4c75-aa6e-c578555f1a54",
   "metadata": {},
   "source": [
    "תרגיל 2"
   ]
  },
  {
   "cell_type": "code",
   "execution_count": 25,
   "id": "d4332e39-d39c-4496-a73e-2e6a0091cb72",
   "metadata": {},
   "outputs": [],
   "source": [
    "random_array = np.random.randint(10,100,size=(2,5))"
   ]
  },
  {
   "cell_type": "code",
   "execution_count": 26,
   "id": "7df9f91b-dfc8-4baa-9a9c-81a8d05863bb",
   "metadata": {},
   "outputs": [
    {
     "data": {
      "text/plain": [
       "array([[60, 39, 82, 13, 77],\n",
       "       [51, 84, 17, 46, 49]])"
      ]
     },
     "execution_count": 26,
     "metadata": {},
     "output_type": "execute_result"
    }
   ],
   "source": [
    "random_array"
   ]
  },
  {
   "cell_type": "markdown",
   "id": "86170d64-3077-454f-bd87-b80254cea2c0",
   "metadata": {},
   "source": [
    "המשך תרגול"
   ]
  },
  {
   "cell_type": "markdown",
   "id": "8d2f4c1d-2433-45c5-af4e-b68a74534616",
   "metadata": {},
   "source": [
    "תרגיל 1"
   ]
  },
  {
   "cell_type": "code",
   "execution_count": 31,
   "id": "70d863d9-1ac8-4849-ae23-b6a672d6cea4",
   "metadata": {},
   "outputs": [
    {
     "data": {
      "text/plain": [
       "25.3"
      ]
     },
     "execution_count": 31,
     "metadata": {},
     "output_type": "execute_result"
    }
   ],
   "source": [
    "np.mean(random_arr)"
   ]
  },
  {
   "cell_type": "code",
   "execution_count": 32,
   "id": "b8764c9c-87ec-4811-8505-e63925e35ab5",
   "metadata": {},
   "outputs": [],
   "source": [
    "arr1 = [1,2,3]\n",
    "arr2 = [4,5,6]"
   ]
  },
  {
   "cell_type": "code",
   "execution_count": 35,
   "id": "036de2a2-11d9-442a-83e7-3b4964647b38",
   "metadata": {},
   "outputs": [],
   "source": [
    "arr3 = arr1+arr2"
   ]
  },
  {
   "cell_type": "code",
   "execution_count": 36,
   "id": "848ee7f8-6758-4dbc-adf1-79741f314ac2",
   "metadata": {},
   "outputs": [
    {
     "data": {
      "text/plain": [
       "[1, 2, 3, 4, 5, 6]"
      ]
     },
     "execution_count": 36,
     "metadata": {},
     "output_type": "execute_result"
    }
   ],
   "source": [
    "arr3"
   ]
  },
  {
   "cell_type": "code",
   "execution_count": 37,
   "id": "8acc5fbd-c6ac-46f1-844c-ded216865717",
   "metadata": {},
   "outputs": [
    {
     "data": {
      "text/plain": [
       "3.5"
      ]
     },
     "execution_count": 37,
     "metadata": {},
     "output_type": "execute_result"
    }
   ],
   "source": [
    "np.mean(arr3)"
   ]
  },
  {
   "cell_type": "markdown",
   "id": "8c8f7efb-716c-4baf-93f6-b6e413d81c5a",
   "metadata": {},
   "source": [
    "תרגיל 3"
   ]
  },
  {
   "cell_type": "code",
   "execution_count": 38,
   "id": "846d65aa-e1c1-4133-9348-a8fb73941462",
   "metadata": {},
   "outputs": [],
   "source": [
    "arr4 = np.random.randint(1,100,size=(20))"
   ]
  },
  {
   "cell_type": "code",
   "execution_count": 39,
   "id": "6d4457ee-b759-496d-a35e-faf092d8d448",
   "metadata": {},
   "outputs": [],
   "source": [
    "filter_arr = arr4[arr4>50]"
   ]
  },
  {
   "cell_type": "code",
   "execution_count": 40,
   "id": "d9b88b6f-ecb8-4dac-b65e-2fbb0c4ddaac",
   "metadata": {},
   "outputs": [
    {
     "data": {
      "text/plain": [
       "array([96, 64, 52, 73, 70, 52, 66, 97])"
      ]
     },
     "execution_count": 40,
     "metadata": {},
     "output_type": "execute_result"
    }
   ],
   "source": [
    "filter_arr"
   ]
  },
  {
   "cell_type": "markdown",
   "id": "97e03db5-8608-4e6b-b901-fe37d53254bd",
   "metadata": {},
   "source": [
    "תרגיל 4"
   ]
  },
  {
   "cell_type": "code",
   "execution_count": 49,
   "id": "e8dde295-b48c-4bf7-97a2-356d2dd67575",
   "metadata": {},
   "outputs": [],
   "source": [
    "arr5 = np.arange(10)\n",
    "np.random.shuffle(arr5)"
   ]
  },
  {
   "cell_type": "code",
   "execution_count": 51,
   "id": "f410b702-6faa-41e1-b503-64204179285e",
   "metadata": {},
   "outputs": [
    {
     "data": {
      "text/plain": [
       "array([1, 6, 0, 8, 5, 3, 2, 4, 9, 7])"
      ]
     },
     "execution_count": 51,
     "metadata": {},
     "output_type": "execute_result"
    }
   ],
   "source": [
    "arr5"
   ]
  },
  {
   "cell_type": "code",
   "execution_count": 53,
   "id": "47ef3edd-f9b8-47ff-b7cc-9278b1d47cac",
   "metadata": {},
   "outputs": [
    {
     "data": {
      "text/plain": [
       "array([1, 2, 4, 3, 4, 0, 3, 0, 2])"
      ]
     },
     "execution_count": 53,
     "metadata": {},
     "output_type": "execute_result"
    }
   ],
   "source": [
    "np.random.choice(5, 9)"
   ]
  },
  {
   "cell_type": "code",
   "execution_count": null,
   "id": "3a00ba3c-8d73-498f-b159-f8ad126f324f",
   "metadata": {},
   "outputs": [],
   "source": []
  }
 ],
 "metadata": {
  "kernelspec": {
   "display_name": "Python 3 (ipykernel)",
   "language": "python",
   "name": "python3"
  },
  "language_info": {
   "codemirror_mode": {
    "name": "ipython",
    "version": 3
   },
   "file_extension": ".py",
   "mimetype": "text/x-python",
   "name": "python",
   "nbconvert_exporter": "python",
   "pygments_lexer": "ipython3",
   "version": "3.10.8"
  }
 },
 "nbformat": 4,
 "nbformat_minor": 5
}
